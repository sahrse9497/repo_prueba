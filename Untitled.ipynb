{
 "cells": [
  {
   "cell_type": "markdown",
   "id": "60dc175a-9e5e-4f95-8ce5-4053ca2a4cf4",
   "metadata": {},
   "source": [
    "# Helen Maldonado"
   ]
  },
  {
   "cell_type": "code",
   "execution_count": 4,
   "id": "2f5e19bc-8a48-4a2e-b1d9-87ce23708257",
   "metadata": {},
   "outputs": [
    {
     "name": "stdout",
     "output_type": "stream",
     "text": [
      "/Users/Helen/taller_unix/10_git_github\n",
      "\u001b[?2004h"
     ]
    },
    {
     "ename": "",
     "evalue": "1",
     "output_type": "error",
     "traceback": []
    }
   ],
   "source": [
    "cd ~/taller_unix/10_git_github/\n",
    "pwd"
   ]
  },
  {
   "cell_type": "code",
   "execution_count": 2,
   "id": "9e58351d-5a24-46c3-9bad-3c774623f378",
   "metadata": {},
   "outputs": [
    {
     "name": "stdout",
     "output_type": "stream",
     "text": [
      "git version 2.5.4 (Apple Git-61)\n",
      "\u001b[?2004h"
     ]
    },
    {
     "ename": "",
     "evalue": "1",
     "output_type": "error",
     "traceback": []
    }
   ],
   "source": [
    "git --version"
   ]
  },
  {
   "cell_type": "markdown",
   "id": "92f825ec-2eac-4d5e-8def-82bea63bda73",
   "metadata": {},
   "source": [
    "#### 2.3.1. Crear un repo de Git y archivos para manejo de versiones"
   ]
  },
  {
   "cell_type": "code",
   "execution_count": 5,
   "id": "6e023576-70a7-4bff-8437-bed3f4732cef",
   "metadata": {},
   "outputs": [
    {
     "name": "stdout",
     "output_type": "stream",
     "text": [
      "mkdir: repo_prueba: File exists\n",
      "\u001b[?2004h\u001b[?2004l"
     ]
    },
    {
     "ename": "",
     "evalue": "1",
     "output_type": "error",
     "traceback": []
    }
   ],
   "source": [
    "mkdir repo_prueba\n",
    "cd repo_prueba"
   ]
  },
  {
   "cell_type": "code",
   "execution_count": 6,
   "id": "83d2b1f6-28be-4190-8caa-c6218aa1d527",
   "metadata": {},
   "outputs": [
    {
     "name": "stdout",
     "output_type": "stream",
     "text": [
      "Reinitialized existing Git repository in /Users/Helen/taller_unix/10_git_github/repo_prueba/.git/\n",
      "\u001b[?2004h"
     ]
    },
    {
     "ename": "",
     "evalue": "1",
     "output_type": "error",
     "traceback": []
    }
   ],
   "source": [
    "git init"
   ]
  },
  {
   "cell_type": "code",
   "execution_count": 7,
   "id": "f27e49e1-700a-4805-a5b5-9a8e657ad825",
   "metadata": {},
   "outputs": [
    {
     "name": "stdout",
     "output_type": "stream",
     "text": [
      "\u001b[?2004h\u001b[?2004l\u001b[?2004l\u001b[?2004l"
     ]
    },
    {
     "ename": "",
     "evalue": "1",
     "output_type": "error",
     "traceback": []
    }
   ],
   "source": [
    "echo \"Este es mi repositorio de prueba\" > readme.txt\n",
    "echo \"echo Hola mundo\" > archivo1.sh\n",
    "echo \"print('Hola mundo')\" > archivo2.py\n",
    "echo \"'Hola mundo'\" > archivo3.R"
   ]
  },
  {
   "cell_type": "code",
   "execution_count": 8,
   "id": "ee71fd57-7431-47db-b59f-b58a5a5f93d1",
   "metadata": {},
   "outputs": [
    {
     "name": "stdout",
     "output_type": "stream",
     "text": [
      "Hola mundo\n",
      "Hola mundo?2004l\n",
      "dyld: Library not loaded: /Library/Frameworks/R.framework/Versions/4.0/Resources/lib/libR.dylib\n",
      "  Referenced from: /Library/Frameworks/R.framework/Resources/bin/exec/R\n",
      "  Reason: no suitable image found.  Did find:\n",
      "\t/Library/Frameworks/R.framework/Versions/4.0/Resources/lib/libR.dylib: code signature invalid for '/Library/Frameworks/R.framework/Versions/4.0/Resources/lib/libR.dylib'\n",
      "\n",
      "\t/Library/Frameworks/R.framework/Resources/lib/libR.dylib: code signature invalid for '/Library/Frameworks/R.framework/Resources/lib/libR.dylib'\n",
      "\n",
      "Trace/BPT trap: 5\n",
      "\u001b[?2004h"
     ]
    },
    {
     "ename": "",
     "evalue": "1",
     "output_type": "error",
     "traceback": []
    }
   ],
   "source": [
    "bash archivo1.sh\n",
    "python archivo2.py\n",
    "Rscript archivo3.R"
   ]
  },
  {
   "cell_type": "markdown",
   "id": "12fdb229-14ce-4792-90c7-6de86784786a",
   "metadata": {},
   "source": [
    "#### 2.3.2. Verificar el estado de un proyecto de Git"
   ]
  },
  {
   "cell_type": "code",
   "execution_count": 9,
   "id": "75509307-ac1f-4dc5-99d5-ed05c7ebe1e3",
   "metadata": {},
   "outputs": [
    {
     "name": "stdout",
     "output_type": "stream",
     "text": [
      "On branch master\n",
      "\n",
      "Initial commit\n",
      "\n",
      "Untracked files:\n",
      "  (use \"git add <file>...\" to include in what will be committed)\n",
      "\n",
      "\t\u001b[31m.ipynb_checkpoints/\u001b[m\n",
      "\t\u001b[31mUntitled.ipynb\u001b[m\n",
      "\t\u001b[31marchivo1.sh\u001b[m\n",
      "\t\u001b[31marchivo2.py\u001b[m\n",
      "\t\u001b[31marchivo3.R\u001b[m\n",
      "\t\u001b[31mreadme.txt\u001b[m\n",
      "\n",
      "nothing added to commit but untracked files present (use \"git add\" to track)\n",
      "\u001b[?2004h"
     ]
    },
    {
     "ename": "",
     "evalue": "1",
     "output_type": "error",
     "traceback": []
    }
   ],
   "source": [
    "git status"
   ]
  },
  {
   "cell_type": "markdown",
   "id": "a1abe2b8-fd55-477d-bf36-19cbb538a555",
   "metadata": {},
   "source": [
    "#### 2.3.3. Añadir archivos individuales a la lista de seguimiento de versiones del repo de Git"
   ]
  },
  {
   "cell_type": "code",
   "execution_count": 10,
   "id": "44aaa274-2ce7-44ac-b690-95a97212c698",
   "metadata": {},
   "outputs": [
    {
     "name": "stdout",
     "output_type": "stream",
     "text": [
      "\u001b[?2004h\u001b[?2004l"
     ]
    },
    {
     "ename": "",
     "evalue": "1",
     "output_type": "error",
     "traceback": []
    }
   ],
   "source": [
    "git add readme.txt\n",
    "git add archivo1.sh"
   ]
  },
  {
   "cell_type": "code",
   "execution_count": 11,
   "id": "b7ff8a5f-af95-4a05-8af1-4e3bad6cd7f2",
   "metadata": {},
   "outputs": [
    {
     "name": "stdout",
     "output_type": "stream",
     "text": [
      "On branch master\n",
      "\n",
      "Initial commit\n",
      "\n",
      "Changes to be committed:\n",
      "  (use \"git rm --cached <file>...\" to unstage)\n",
      "\n",
      "\t\u001b[32mnew file:   archivo1.sh\u001b[m\n",
      "\t\u001b[32mnew file:   readme.txt\u001b[m\n",
      "\n",
      "Untracked files:\n",
      "  (use \"git add <file>...\" to include in what will be committed)\n",
      "\n",
      "\t\u001b[31m.ipynb_checkpoints/\u001b[m\n",
      "\t\u001b[31mUntitled.ipynb\u001b[m\n",
      "\t\u001b[31marchivo2.py\u001b[m\n",
      "\t\u001b[31marchivo3.R\u001b[m\n",
      "\n",
      "\u001b[?2004h"
     ]
    },
    {
     "ename": "",
     "evalue": "1",
     "output_type": "error",
     "traceback": []
    }
   ],
   "source": [
    "git status"
   ]
  },
  {
   "cell_type": "markdown",
   "id": "26196534-4c77-44c2-ba7b-31e394826b9a",
   "metadata": {},
   "source": [
    "#### 2.3.4. Eliminar un archivo de la lista de seguimiento de versiones del repo de Git"
   ]
  },
  {
   "cell_type": "code",
   "execution_count": 12,
   "id": "d3817281-6f0f-4094-825a-c97aa3be7580",
   "metadata": {},
   "outputs": [
    {
     "name": "stdout",
     "output_type": "stream",
     "text": [
      "rm 'readme.txt'\n",
      "On branch master\n",
      "\n",
      "Initial commit\n",
      "\n",
      "Changes to be committed:\n",
      "  (use \"git rm --cached <file>...\" to unstage)\n",
      "\n",
      "\t\u001b[32mnew file:   archivo1.sh\u001b[m\n",
      "\n",
      "Untracked files:\n",
      "  (use \"git add <file>...\" to include in what will be committed)\n",
      "\n",
      "\t\u001b[31m.ipynb_checkpoints/\u001b[m\n",
      "\t\u001b[31mUntitled.ipynb\u001b[m\n",
      "\t\u001b[31marchivo2.py\u001b[m\n",
      "\t\u001b[31marchivo3.R\u001b[m\n",
      "\t\u001b[31mreadme.txt\u001b[m\n",
      "\n",
      "\u001b[?2004h"
     ]
    },
    {
     "ename": "",
     "evalue": "1",
     "output_type": "error",
     "traceback": []
    }
   ],
   "source": [
    "git rm --cached readme.txt\n",
    "git status"
   ]
  },
  {
   "cell_type": "markdown",
   "id": "68993363-6e54-4278-b18c-1f1ac5b592a3",
   "metadata": {},
   "source": [
    "#### 2.3.5. Guardar los cambios realizados en los archivos de la lista de seguimiento"
   ]
  },
  {
   "cell_type": "code",
   "execution_count": 13,
   "id": "af537122-d725-4c8c-b364-630bb6d8b572",
   "metadata": {},
   "outputs": [
    {
     "name": "stdout",
     "output_type": "stream",
     "text": [
      "[master (root-commit) db998f3] Añadimos archivo1.sh al repo de prueba\n",
      " 1 file changed, 1 insertion(+)\n",
      " create mode 100644 archivo1.sh\n",
      "On branch master\n",
      "Untracked files:\n",
      "  (use \"git add <file>...\" to include in what will be committed)\n",
      "\n",
      "\t\u001b[31m.ipynb_checkpoints/\u001b[m\n",
      "\t\u001b[31mUntitled.ipynb\u001b[m\n",
      "\t\u001b[31marchivo2.py\u001b[m\n",
      "\t\u001b[31marchivo3.R\u001b[m\n",
      "\t\u001b[31mreadme.txt\u001b[m\n",
      "\n",
      "nothing added to commit but untracked files present (use \"git add\" to track)\n",
      "\u001b[?2004h"
     ]
    },
    {
     "ename": "",
     "evalue": "1",
     "output_type": "error",
     "traceback": []
    }
   ],
   "source": [
    "git commit -m \"Añadimos archivo1.sh al repo de prueba\"\n",
    "git status"
   ]
  },
  {
   "cell_type": "code",
   "execution_count": 14,
   "id": "dd9faf6f-2855-4d72-a6c5-1a551b651a7d",
   "metadata": {},
   "outputs": [
    {
     "name": "stdout",
     "output_type": "stream",
     "text": [
      "On branch master\n",
      "Changes not staged for commit:\n",
      "  (use \"git add <file>...\" to update what will be committed)\n",
      "  (use \"git checkout -- <file>...\" to discard changes in working directory)\n",
      "\n",
      "\t\u001b[31mmodified:   archivo1.sh\u001b[m\n",
      "\n",
      "Untracked files:\n",
      "  (use \"git add <file>...\" to include in what will be committed)\n",
      "\n",
      "\t\u001b[31m.ipynb_checkpoints/\u001b[m\n",
      "\t\u001b[31mUntitled.ipynb\u001b[m\n",
      "\t\u001b[31marchivo2.py\u001b[m\n",
      "\t\u001b[31marchivo3.R\u001b[m\n",
      "\t\u001b[31mreadme.txt\u001b[m\n",
      "\n",
      "no changes added to commit (use \"git add\" and/or \"git commit -a\")\n",
      "\u001b[?2004h"
     ]
    },
    {
     "ename": "",
     "evalue": "1",
     "output_type": "error",
     "traceback": []
    }
   ],
   "source": [
    "echo \"echo Hola mundo 2\" >> archivo1.sh\n",
    "git status"
   ]
  },
  {
   "cell_type": "markdown",
   "id": "02105282-219a-4382-baf9-9a0d96f4c027",
   "metadata": {},
   "source": [
    "#### 2.3.6. Verificar diferencias entre archivos sin seguimiento y último commit"
   ]
  },
  {
   "cell_type": "code",
   "execution_count": 15,
   "id": "fcae9bb4-0f52-43d7-926b-559331821abe",
   "metadata": {},
   "outputs": [
    {
     "name": "stdout",
     "output_type": "stream",
     "text": [
      "\u001b[1mdiff --git a/archivo1.sh b/archivo1.sh\u001b[m\n",
      "\u001b[1mindex 485b1b4..29fb222 100644\u001b[m\n",
      "\u001b[1m--- a/archivo1.sh\u001b[m\n",
      "\u001b[1m+++ b/archivo1.sh\u001b[m\n",
      "\u001b[36m@@ -1 +1,2 @@\u001b[m\n",
      " echo Hola mundo\u001b[m\n",
      "\u001b[32m+\u001b[m\u001b[32mecho Hola mundo 2\u001b[m\n",
      "\u001b[?2004h"
     ]
    },
    {
     "ename": "",
     "evalue": "1",
     "output_type": "error",
     "traceback": []
    }
   ],
   "source": [
    "git diff archivo1.sh"
   ]
  },
  {
   "cell_type": "code",
   "execution_count": 16,
   "id": "ba3ad9ba-498a-45c6-94cf-009dcfaabe4c",
   "metadata": {},
   "outputs": [
    {
     "name": "stdout",
     "output_type": "stream",
     "text": [
      "On branch master\n",
      "Untracked files:\n",
      "  (use \"git add <file>...\" to include in what will be committed)\n",
      "\n",
      "\t\u001b[31m.ipynb_checkpoints/\u001b[m\n",
      "\t\u001b[31mUntitled.ipynb\u001b[m\n",
      "\t\u001b[31marchivo2.py\u001b[m\n",
      "\t\u001b[31marchivo3.R\u001b[m\n",
      "\t\u001b[31mreadme.txt\u001b[m\n",
      "\n",
      "nothing added to commit but untracked files present (use \"git add\" to track)\n",
      "\u001b[?2004h"
     ]
    },
    {
     "ename": "",
     "evalue": "1",
     "output_type": "error",
     "traceback": []
    }
   ],
   "source": [
    "git checkout archivo1.sh\n",
    "git status"
   ]
  },
  {
   "cell_type": "markdown",
   "id": "ce9ce993-2c98-421d-b184-e5351a0e2784",
   "metadata": {},
   "source": [
    "#### 2.3.7. Añadir todos los archivos del repo a la lista de seguimiento de versiones"
   ]
  },
  {
   "cell_type": "code",
   "execution_count": 17,
   "id": "628f82b3-48c7-4743-a112-ba3559b4eba5",
   "metadata": {},
   "outputs": [
    {
     "name": "stdout",
     "output_type": "stream",
     "text": [
      "On branch master\n",
      "Changes to be committed:\n",
      "  (use \"git reset HEAD <file>...\" to unstage)\n",
      "\n",
      "\t\u001b[32mnew file:   .ipynb_checkpoints/Untitled-checkpoint.ipynb\u001b[m\n",
      "\t\u001b[32mnew file:   Untitled.ipynb\u001b[m\n",
      "\t\u001b[32mnew file:   archivo2.py\u001b[m\n",
      "\t\u001b[32mnew file:   archivo3.R\u001b[m\n",
      "\t\u001b[32mnew file:   readme.txt\u001b[m\n",
      "\n",
      "\u001b[?2004h"
     ]
    },
    {
     "ename": "",
     "evalue": "1",
     "output_type": "error",
     "traceback": []
    }
   ],
   "source": [
    "git add -A # o git add .\n",
    "git status"
   ]
  },
  {
   "cell_type": "code",
   "execution_count": 18,
   "id": "29d9fd2a-9709-426d-a0cc-5633b17da891",
   "metadata": {},
   "outputs": [
    {
     "name": "stdout",
     "output_type": "stream",
     "text": [
      "[master 1962afa] Añadimos readme.txt, y scripts de Hola mundo en diferentes lenguajes\n",
      " 5 files changed, 402 insertions(+)\n",
      " create mode 100644 .ipynb_checkpoints/Untitled-checkpoint.ipynb\n",
      " create mode 100644 Untitled.ipynb\n",
      " create mode 100644 archivo2.py\n",
      " create mode 100644 archivo3.R\n",
      " create mode 100644 readme.txt\n",
      "On branch master\n",
      "nothing to commit, working directory clean\n",
      "\u001b[?2004h"
     ]
    },
    {
     "ename": "",
     "evalue": "1",
     "output_type": "error",
     "traceback": []
    }
   ],
   "source": [
    "git commit -m \"Añadimos readme.txt, y scripts de Hola mundo en diferentes lenguajes\"\n",
    "git status"
   ]
  },
  {
   "cell_type": "markdown",
   "id": "81f5f2d4-813f-4aad-a39a-7353d677bb27",
   "metadata": {},
   "source": [
    "#### 2.3.8. Deshacer el commit más reciente"
   ]
  },
  {
   "cell_type": "code",
   "execution_count": 19,
   "id": "67a88851-8124-4548-a652-e357dcffdac7",
   "metadata": {},
   "outputs": [
    {
     "name": "stdout",
     "output_type": "stream",
     "text": [
      "On branch master\n",
      "Changes to be committed:\n",
      "  (use \"git reset HEAD <file>...\" to unstage)\n",
      "\n",
      "\t\u001b[32mnew file:   .ipynb_checkpoints/Untitled-checkpoint.ipynb\u001b[m\n",
      "\t\u001b[32mnew file:   Untitled.ipynb\u001b[m\n",
      "\t\u001b[32mnew file:   archivo2.py\u001b[m\n",
      "\t\u001b[32mnew file:   archivo3.R\u001b[m\n",
      "\t\u001b[32mnew file:   readme.txt\u001b[m\n",
      "\n",
      "Changes not staged for commit:\n",
      "  (use \"git add <file>...\" to update what will be committed)\n",
      "  (use \"git checkout -- <file>...\" to discard changes in working directory)\n",
      "\n",
      "\t\u001b[31mmodified:   Untitled.ipynb\u001b[m\n",
      "\n",
      "\u001b[?2004h"
     ]
    },
    {
     "ename": "",
     "evalue": "1",
     "output_type": "error",
     "traceback": []
    }
   ],
   "source": [
    "git reset --soft HEAD~\n",
    "git status"
   ]
  },
  {
   "cell_type": "code",
   "execution_count": 20,
   "id": "ca31e93a-cc03-4a2c-bb42-f71d2b32537a",
   "metadata": {},
   "outputs": [
    {
     "name": "stdout",
     "output_type": "stream",
     "text": [
      "[master e8d0928] Añadimos archivos corregidos\n",
      " 5 files changed, 634 insertions(+)\n",
      " create mode 100644 .ipynb_checkpoints/Untitled-checkpoint.ipynb\n",
      " create mode 100644 Untitled.ipynb\n",
      " create mode 100644 archivo2.py\n",
      " create mode 100644 archivo3.R\n",
      " create mode 100644 readme.txt\n",
      "On branch master\n",
      "nothing to commit, working directory clean\n",
      "\u001b[?2004h"
     ]
    },
    {
     "ename": "",
     "evalue": "1",
     "output_type": "error",
     "traceback": []
    }
   ],
   "source": [
    "git add -A\n",
    "git commit -m \"Añadimos archivos corregidos\"\n",
    "git status "
   ]
  },
  {
   "cell_type": "markdown",
   "id": "eaf55cba-9689-431d-b349-a48b34bbe252",
   "metadata": {},
   "source": [
    "#### 2.3.9. Verificar los commits del repositorio"
   ]
  },
  {
   "cell_type": "code",
   "execution_count": 21,
   "id": "d7de7c21-6650-462e-ae2d-4eb02378808b",
   "metadata": {},
   "outputs": [
    {
     "name": "stdout",
     "output_type": "stream",
     "text": [
      "\u001b[33mcommit e8d0928a61beda4b20bd22463be93a15ee8a1546\u001b[m\n",
      "Author: sahrse <sahrse9497@gmail.com>\n",
      "Date:   Thu May 27 10:40:11 2021 -0500\n",
      "\n",
      "    Añadimos archivos corregidos\n",
      "\n",
      "\u001b[33mcommit db998f348e5a3bd7e51175e143c75b67554820a3\u001b[m\n",
      "Author: sahrse <sahrse9497@gmail.com>\n",
      "Date:   Thu May 27 10:37:35 2021 -0500\n",
      "\n",
      "    Añadimos archivo1.sh al repo de prueba\n",
      "\u001b[?2004h"
     ]
    },
    {
     "ename": "",
     "evalue": "1",
     "output_type": "error",
     "traceback": []
    }
   ],
   "source": [
    "git log"
   ]
  },
  {
   "cell_type": "markdown",
   "id": "1b882b25-0395-43a9-9dcc-1c53e49894eb",
   "metadata": {},
   "source": [
    "#### 2.4. Ignorar archivos o directorios"
   ]
  },
  {
   "cell_type": "code",
   "execution_count": 22,
   "id": "fe62aef3-05c8-4eb3-ae91-cdf98adc8038",
   "metadata": {},
   "outputs": [
    {
     "name": "stdout",
     "output_type": "stream",
     "text": [
      "On branch master\u001b[?2004l\u001b[?2004l\u001b[?2004l\u001b[?2004l\n",
      "Changes not staged for commit:\n",
      "  (use \"git add <file>...\" to update what will be committed)\n",
      "  (use \"git checkout -- <file>...\" to discard changes in working directory)\n",
      "\n",
      "\t\u001b[31mmodified:   Untitled.ipynb\u001b[m\n",
      "\n",
      "Untracked files:\n",
      "  (use \"git add <file>...\" to include in what will be committed)\n",
      "\n",
      "\t\u001b[31mimagen1.png\u001b[m\n",
      "\t\u001b[31mimagen2.jpg\u001b[m\n",
      "\t\u001b[31mimagen3.jpg\u001b[m\n",
      "\t\u001b[31msub_directorio1/\u001b[m\n",
      "\n",
      "no changes added to commit (use \"git add\" and/or \"git commit -a\")\n",
      "\u001b[?2004h"
     ]
    },
    {
     "ename": "",
     "evalue": "1",
     "output_type": "error",
     "traceback": []
    }
   ],
   "source": [
    "touch imagen1.png\n",
    "touch imagen2.jpg\n",
    "touch imagen3.jpg\n",
    "mkdir sub_directorio1\n",
    "touch sub_directorio1/imagen4.png\n",
    "git status"
   ]
  },
  {
   "cell_type": "code",
   "execution_count": 23,
   "id": "b7b9d904-bd26-4e74-a06a-44b7b622bc6d",
   "metadata": {},
   "outputs": [
    {
     "name": "stdout",
     "output_type": "stream",
     "text": [
      "On branch master\n",
      "Changes not staged for commit:\n",
      "  (use \"git add <file>...\" to update what will be committed)\n",
      "  (use \"git checkout -- <file>...\" to discard changes in working directory)\n",
      "\n",
      "\t\u001b[31mmodified:   Untitled.ipynb\u001b[m\n",
      "\n",
      "Untracked files:\n",
      "  (use \"git add <file>...\" to include in what will be committed)\n",
      "\n",
      "\t\u001b[31m.gitignore\u001b[m\n",
      "\t\u001b[31mimagen2.jpg\u001b[m\n",
      "\t\u001b[31mimagen3.jpg\u001b[m\n",
      "\t\u001b[31msub_directorio1/\u001b[m\n",
      "\n",
      "no changes added to commit (use \"git add\" and/or \"git commit -a\")\n",
      "\u001b[?2004h"
     ]
    },
    {
     "ename": "",
     "evalue": "1",
     "output_type": "error",
     "traceback": []
    }
   ],
   "source": [
    "echo \"imagen1.png\" > .gitignore\n",
    "git status"
   ]
  },
  {
   "cell_type": "markdown",
   "id": "913422c4-3061-43b3-85d1-feb1582b8417",
   "metadata": {},
   "source": [
    "#### 2.3.9. Verificar los commits del repositorio"
   ]
  },
  {
   "cell_type": "code",
   "execution_count": null,
   "id": "51bcac6c-7499-4159-9b71-063f16ae7d7b",
   "metadata": {},
   "outputs": [],
   "source": []
  },
  {
   "cell_type": "markdown",
   "id": "6818a204-fce9-41ab-ade1-d071a3c8512e",
   "metadata": {},
   "source": [
    "#### 2.3.9. Verificar los commits del repositorio"
   ]
  },
  {
   "cell_type": "code",
   "execution_count": null,
   "id": "0894a859-abcf-4535-84ff-74797dfd4af7",
   "metadata": {},
   "outputs": [],
   "source": []
  },
  {
   "cell_type": "markdown",
   "id": "95cceb64-ac2c-4262-88fb-51f9c746f443",
   "metadata": {},
   "source": [
    "#### 2.3.9. Verificar los commits del repositorio"
   ]
  },
  {
   "cell_type": "code",
   "execution_count": null,
   "id": "ec76105c-8ba1-4458-a15a-0a1316610221",
   "metadata": {},
   "outputs": [],
   "source": []
  },
  {
   "cell_type": "markdown",
   "id": "d44f203c-5e7c-4a2c-8d7f-84ea93800912",
   "metadata": {},
   "source": [
    "#### 2.3.9. Verificar los commits del repositorio"
   ]
  },
  {
   "cell_type": "code",
   "execution_count": null,
   "id": "faa1b910-80b0-4fa7-bfb9-f2efdfac2d15",
   "metadata": {},
   "outputs": [],
   "source": []
  },
  {
   "cell_type": "markdown",
   "id": "fe0e638e-250c-4967-9ebe-c9eb060c73bf",
   "metadata": {},
   "source": [
    "#### "
   ]
  }
 ],
 "metadata": {
  "kernelspec": {
   "display_name": "Bash",
   "language": "bash",
   "name": "bash"
  },
  "language_info": {
   "codemirror_mode": "shell",
   "file_extension": ".sh",
   "mimetype": "text/x-sh",
   "name": "bash"
  }
 },
 "nbformat": 4,
 "nbformat_minor": 5
}
