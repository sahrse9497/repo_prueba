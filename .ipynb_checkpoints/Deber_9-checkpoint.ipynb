{
 "cells": [
  {
   "cell_type": "markdown",
   "id": "60dc175a-9e5e-4f95-8ce5-4053ca2a4cf4",
   "metadata": {},
   "source": [
    "# Helen Maldonado"
   ]
  },
  {
   "cell_type": "code",
   "execution_count": 4,
   "id": "2f5e19bc-8a48-4a2e-b1d9-87ce23708257",
   "metadata": {},
   "outputs": [
    {
     "name": "stdout",
     "output_type": "stream",
     "text": [
      "/Users/Helen/taller_unix/10_git_github\n",
      "\u001b[?2004h"
     ]
    },
    {
     "ename": "",
     "evalue": "1",
     "output_type": "error",
     "traceback": []
    }
   ],
   "source": [
    "cd ~/taller_unix/10_git_github/\n",
    "pwd"
   ]
  },
  {
   "cell_type": "code",
   "execution_count": 2,
   "id": "9e58351d-5a24-46c3-9bad-3c774623f378",
   "metadata": {},
   "outputs": [
    {
     "name": "stdout",
     "output_type": "stream",
     "text": [
      "git version 2.5.4 (Apple Git-61)\n",
      "\u001b[?2004h"
     ]
    },
    {
     "ename": "",
     "evalue": "1",
     "output_type": "error",
     "traceback": []
    }
   ],
   "source": [
    "git --version"
   ]
  },
  {
   "cell_type": "markdown",
   "id": "92f825ec-2eac-4d5e-8def-82bea63bda73",
   "metadata": {},
   "source": [
    "#### 2.3.1. Crear un repo de Git y archivos para manejo de versiones"
   ]
  },
  {
   "cell_type": "code",
   "execution_count": 5,
   "id": "6e023576-70a7-4bff-8437-bed3f4732cef",
   "metadata": {},
   "outputs": [
    {
     "name": "stdout",
     "output_type": "stream",
     "text": [
      "mkdir: repo_prueba: File exists\n",
      "\u001b[?2004h\u001b[?2004l"
     ]
    },
    {
     "ename": "",
     "evalue": "1",
     "output_type": "error",
     "traceback": []
    }
   ],
   "source": [
    "mkdir repo_prueba\n",
    "cd repo_prueba"
   ]
  },
  {
   "cell_type": "code",
   "execution_count": 6,
   "id": "83d2b1f6-28be-4190-8caa-c6218aa1d527",
   "metadata": {},
   "outputs": [
    {
     "name": "stdout",
     "output_type": "stream",
     "text": [
      "Reinitialized existing Git repository in /Users/Helen/taller_unix/10_git_github/repo_prueba/.git/\n",
      "\u001b[?2004h"
     ]
    },
    {
     "ename": "",
     "evalue": "1",
     "output_type": "error",
     "traceback": []
    }
   ],
   "source": [
    "git init"
   ]
  },
  {
   "cell_type": "code",
   "execution_count": 7,
   "id": "f27e49e1-700a-4805-a5b5-9a8e657ad825",
   "metadata": {},
   "outputs": [
    {
     "name": "stdout",
     "output_type": "stream",
     "text": [
      "\u001b[?2004h\u001b[?2004l\u001b[?2004l\u001b[?2004l"
     ]
    },
    {
     "ename": "",
     "evalue": "1",
     "output_type": "error",
     "traceback": []
    }
   ],
   "source": [
    "echo \"Este es mi repositorio de prueba\" > readme.txt\n",
    "echo \"echo Hola mundo\" > archivo1.sh\n",
    "echo \"print('Hola mundo')\" > archivo2.py\n",
    "echo \"'Hola mundo'\" > archivo3.R"
   ]
  },
  {
   "cell_type": "code",
   "execution_count": 8,
   "id": "ee71fd57-7431-47db-b59f-b58a5a5f93d1",
   "metadata": {},
   "outputs": [
    {
     "name": "stdout",
     "output_type": "stream",
     "text": [
      "Hola mundo\n",
      "Hola mundo?2004l\n",
      "dyld: Library not loaded: /Library/Frameworks/R.framework/Versions/4.0/Resources/lib/libR.dylib\n",
      "  Referenced from: /Library/Frameworks/R.framework/Resources/bin/exec/R\n",
      "  Reason: no suitable image found.  Did find:\n",
      "\t/Library/Frameworks/R.framework/Versions/4.0/Resources/lib/libR.dylib: code signature invalid for '/Library/Frameworks/R.framework/Versions/4.0/Resources/lib/libR.dylib'\n",
      "\n",
      "\t/Library/Frameworks/R.framework/Resources/lib/libR.dylib: code signature invalid for '/Library/Frameworks/R.framework/Resources/lib/libR.dylib'\n",
      "\n",
      "Trace/BPT trap: 5\n",
      "\u001b[?2004h"
     ]
    },
    {
     "ename": "",
     "evalue": "1",
     "output_type": "error",
     "traceback": []
    }
   ],
   "source": [
    "bash archivo1.sh\n",
    "python archivo2.py\n",
    "Rscript archivo3.R"
   ]
  },
  {
   "cell_type": "markdown",
   "id": "12fdb229-14ce-4792-90c7-6de86784786a",
   "metadata": {},
   "source": [
    "#### 2.3.2. Verificar el estado de un proyecto de Git"
   ]
  },
  {
   "cell_type": "code",
   "execution_count": 9,
   "id": "75509307-ac1f-4dc5-99d5-ed05c7ebe1e3",
   "metadata": {},
   "outputs": [
    {
     "name": "stdout",
     "output_type": "stream",
     "text": [
      "On branch master\n",
      "\n",
      "Initial commit\n",
      "\n",
      "Untracked files:\n",
      "  (use \"git add <file>...\" to include in what will be committed)\n",
      "\n",
      "\t\u001b[31m.ipynb_checkpoints/\u001b[m\n",
      "\t\u001b[31mUntitled.ipynb\u001b[m\n",
      "\t\u001b[31marchivo1.sh\u001b[m\n",
      "\t\u001b[31marchivo2.py\u001b[m\n",
      "\t\u001b[31marchivo3.R\u001b[m\n",
      "\t\u001b[31mreadme.txt\u001b[m\n",
      "\n",
      "nothing added to commit but untracked files present (use \"git add\" to track)\n",
      "\u001b[?2004h"
     ]
    },
    {
     "ename": "",
     "evalue": "1",
     "output_type": "error",
     "traceback": []
    }
   ],
   "source": [
    "git status"
   ]
  },
  {
   "cell_type": "markdown",
   "id": "a1abe2b8-fd55-477d-bf36-19cbb538a555",
   "metadata": {},
   "source": [
    "#### 2.3.3. Añadir archivos individuales a la lista de seguimiento de versiones del repo de Git"
   ]
  },
  {
   "cell_type": "code",
   "execution_count": 10,
   "id": "44aaa274-2ce7-44ac-b690-95a97212c698",
   "metadata": {},
   "outputs": [
    {
     "name": "stdout",
     "output_type": "stream",
     "text": [
      "\u001b[?2004h\u001b[?2004l"
     ]
    },
    {
     "ename": "",
     "evalue": "1",
     "output_type": "error",
     "traceback": []
    }
   ],
   "source": [
    "git add readme.txt\n",
    "git add archivo1.sh"
   ]
  },
  {
   "cell_type": "code",
   "execution_count": 11,
   "id": "b7ff8a5f-af95-4a05-8af1-4e3bad6cd7f2",
   "metadata": {},
   "outputs": [
    {
     "name": "stdout",
     "output_type": "stream",
     "text": [
      "On branch master\n",
      "\n",
      "Initial commit\n",
      "\n",
      "Changes to be committed:\n",
      "  (use \"git rm --cached <file>...\" to unstage)\n",
      "\n",
      "\t\u001b[32mnew file:   archivo1.sh\u001b[m\n",
      "\t\u001b[32mnew file:   readme.txt\u001b[m\n",
      "\n",
      "Untracked files:\n",
      "  (use \"git add <file>...\" to include in what will be committed)\n",
      "\n",
      "\t\u001b[31m.ipynb_checkpoints/\u001b[m\n",
      "\t\u001b[31mUntitled.ipynb\u001b[m\n",
      "\t\u001b[31marchivo2.py\u001b[m\n",
      "\t\u001b[31marchivo3.R\u001b[m\n",
      "\n",
      "\u001b[?2004h"
     ]
    },
    {
     "ename": "",
     "evalue": "1",
     "output_type": "error",
     "traceback": []
    }
   ],
   "source": [
    "git status"
   ]
  },
  {
   "cell_type": "markdown",
   "id": "26196534-4c77-44c2-ba7b-31e394826b9a",
   "metadata": {},
   "source": [
    "#### 2.3.4. Eliminar un archivo de la lista de seguimiento de versiones del repo de Git"
   ]
  },
  {
   "cell_type": "code",
   "execution_count": 12,
   "id": "d3817281-6f0f-4094-825a-c97aa3be7580",
   "metadata": {},
   "outputs": [
    {
     "name": "stdout",
     "output_type": "stream",
     "text": [
      "rm 'readme.txt'\n",
      "On branch master\n",
      "\n",
      "Initial commit\n",
      "\n",
      "Changes to be committed:\n",
      "  (use \"git rm --cached <file>...\" to unstage)\n",
      "\n",
      "\t\u001b[32mnew file:   archivo1.sh\u001b[m\n",
      "\n",
      "Untracked files:\n",
      "  (use \"git add <file>...\" to include in what will be committed)\n",
      "\n",
      "\t\u001b[31m.ipynb_checkpoints/\u001b[m\n",
      "\t\u001b[31mUntitled.ipynb\u001b[m\n",
      "\t\u001b[31marchivo2.py\u001b[m\n",
      "\t\u001b[31marchivo3.R\u001b[m\n",
      "\t\u001b[31mreadme.txt\u001b[m\n",
      "\n",
      "\u001b[?2004h"
     ]
    },
    {
     "ename": "",
     "evalue": "1",
     "output_type": "error",
     "traceback": []
    }
   ],
   "source": [
    "git rm --cached readme.txt\n",
    "git status"
   ]
  },
  {
   "cell_type": "markdown",
   "id": "68993363-6e54-4278-b18c-1f1ac5b592a3",
   "metadata": {},
   "source": [
    "#### 2.3.5. Guardar los cambios realizados en los archivos de la lista de seguimiento"
   ]
  },
  {
   "cell_type": "code",
   "execution_count": 13,
   "id": "af537122-d725-4c8c-b364-630bb6d8b572",
   "metadata": {},
   "outputs": [
    {
     "name": "stdout",
     "output_type": "stream",
     "text": [
      "[master (root-commit) db998f3] Añadimos archivo1.sh al repo de prueba\n",
      " 1 file changed, 1 insertion(+)\n",
      " create mode 100644 archivo1.sh\n",
      "On branch master\n",
      "Untracked files:\n",
      "  (use \"git add <file>...\" to include in what will be committed)\n",
      "\n",
      "\t\u001b[31m.ipynb_checkpoints/\u001b[m\n",
      "\t\u001b[31mUntitled.ipynb\u001b[m\n",
      "\t\u001b[31marchivo2.py\u001b[m\n",
      "\t\u001b[31marchivo3.R\u001b[m\n",
      "\t\u001b[31mreadme.txt\u001b[m\n",
      "\n",
      "nothing added to commit but untracked files present (use \"git add\" to track)\n",
      "\u001b[?2004h"
     ]
    },
    {
     "ename": "",
     "evalue": "1",
     "output_type": "error",
     "traceback": []
    }
   ],
   "source": [
    "git commit -m \"Añadimos archivo1.sh al repo de prueba\"\n",
    "git status"
   ]
  },
  {
   "cell_type": "code",
   "execution_count": 14,
   "id": "dd9faf6f-2855-4d72-a6c5-1a551b651a7d",
   "metadata": {},
   "outputs": [
    {
     "name": "stdout",
     "output_type": "stream",
     "text": [
      "On branch master\n",
      "Changes not staged for commit:\n",
      "  (use \"git add <file>...\" to update what will be committed)\n",
      "  (use \"git checkout -- <file>...\" to discard changes in working directory)\n",
      "\n",
      "\t\u001b[31mmodified:   archivo1.sh\u001b[m\n",
      "\n",
      "Untracked files:\n",
      "  (use \"git add <file>...\" to include in what will be committed)\n",
      "\n",
      "\t\u001b[31m.ipynb_checkpoints/\u001b[m\n",
      "\t\u001b[31mUntitled.ipynb\u001b[m\n",
      "\t\u001b[31marchivo2.py\u001b[m\n",
      "\t\u001b[31marchivo3.R\u001b[m\n",
      "\t\u001b[31mreadme.txt\u001b[m\n",
      "\n",
      "no changes added to commit (use \"git add\" and/or \"git commit -a\")\n",
      "\u001b[?2004h"
     ]
    },
    {
     "ename": "",
     "evalue": "1",
     "output_type": "error",
     "traceback": []
    }
   ],
   "source": [
    "echo \"echo Hola mundo 2\" >> archivo1.sh\n",
    "git status"
   ]
  },
  {
   "cell_type": "markdown",
   "id": "02105282-219a-4382-baf9-9a0d96f4c027",
   "metadata": {},
   "source": [
    "#### 2.3.6. Verificar diferencias entre archivos sin seguimiento y último commit"
   ]
  },
  {
   "cell_type": "code",
   "execution_count": 15,
   "id": "fcae9bb4-0f52-43d7-926b-559331821abe",
   "metadata": {},
   "outputs": [
    {
     "name": "stdout",
     "output_type": "stream",
     "text": [
      "\u001b[1mdiff --git a/archivo1.sh b/archivo1.sh\u001b[m\n",
      "\u001b[1mindex 485b1b4..29fb222 100644\u001b[m\n",
      "\u001b[1m--- a/archivo1.sh\u001b[m\n",
      "\u001b[1m+++ b/archivo1.sh\u001b[m\n",
      "\u001b[36m@@ -1 +1,2 @@\u001b[m\n",
      " echo Hola mundo\u001b[m\n",
      "\u001b[32m+\u001b[m\u001b[32mecho Hola mundo 2\u001b[m\n",
      "\u001b[?2004h"
     ]
    },
    {
     "ename": "",
     "evalue": "1",
     "output_type": "error",
     "traceback": []
    }
   ],
   "source": [
    "git diff archivo1.sh"
   ]
  },
  {
   "cell_type": "code",
   "execution_count": 16,
   "id": "ba3ad9ba-498a-45c6-94cf-009dcfaabe4c",
   "metadata": {},
   "outputs": [
    {
     "name": "stdout",
     "output_type": "stream",
     "text": [
      "On branch master\n",
      "Untracked files:\n",
      "  (use \"git add <file>...\" to include in what will be committed)\n",
      "\n",
      "\t\u001b[31m.ipynb_checkpoints/\u001b[m\n",
      "\t\u001b[31mUntitled.ipynb\u001b[m\n",
      "\t\u001b[31marchivo2.py\u001b[m\n",
      "\t\u001b[31marchivo3.R\u001b[m\n",
      "\t\u001b[31mreadme.txt\u001b[m\n",
      "\n",
      "nothing added to commit but untracked files present (use \"git add\" to track)\n",
      "\u001b[?2004h"
     ]
    },
    {
     "ename": "",
     "evalue": "1",
     "output_type": "error",
     "traceback": []
    }
   ],
   "source": [
    "git checkout archivo1.sh\n",
    "git status"
   ]
  },
  {
   "cell_type": "markdown",
   "id": "ce9ce993-2c98-421d-b184-e5351a0e2784",
   "metadata": {},
   "source": [
    "#### 2.3.7. Añadir todos los archivos del repo a la lista de seguimiento de versiones"
   ]
  },
  {
   "cell_type": "code",
   "execution_count": 17,
   "id": "628f82b3-48c7-4743-a112-ba3559b4eba5",
   "metadata": {},
   "outputs": [
    {
     "name": "stdout",
     "output_type": "stream",
     "text": [
      "On branch master\n",
      "Changes to be committed:\n",
      "  (use \"git reset HEAD <file>...\" to unstage)\n",
      "\n",
      "\t\u001b[32mnew file:   .ipynb_checkpoints/Untitled-checkpoint.ipynb\u001b[m\n",
      "\t\u001b[32mnew file:   Untitled.ipynb\u001b[m\n",
      "\t\u001b[32mnew file:   archivo2.py\u001b[m\n",
      "\t\u001b[32mnew file:   archivo3.R\u001b[m\n",
      "\t\u001b[32mnew file:   readme.txt\u001b[m\n",
      "\n",
      "\u001b[?2004h"
     ]
    },
    {
     "ename": "",
     "evalue": "1",
     "output_type": "error",
     "traceback": []
    }
   ],
   "source": [
    "git add -A # o git add .\n",
    "git status"
   ]
  },
  {
   "cell_type": "code",
   "execution_count": 18,
   "id": "29d9fd2a-9709-426d-a0cc-5633b17da891",
   "metadata": {},
   "outputs": [
    {
     "name": "stdout",
     "output_type": "stream",
     "text": [
      "[master 1962afa] Añadimos readme.txt, y scripts de Hola mundo en diferentes lenguajes\n",
      " 5 files changed, 402 insertions(+)\n",
      " create mode 100644 .ipynb_checkpoints/Untitled-checkpoint.ipynb\n",
      " create mode 100644 Untitled.ipynb\n",
      " create mode 100644 archivo2.py\n",
      " create mode 100644 archivo3.R\n",
      " create mode 100644 readme.txt\n",
      "On branch master\n",
      "nothing to commit, working directory clean\n",
      "\u001b[?2004h"
     ]
    },
    {
     "ename": "",
     "evalue": "1",
     "output_type": "error",
     "traceback": []
    }
   ],
   "source": [
    "git commit -m \"Añadimos readme.txt, y scripts de Hola mundo en diferentes lenguajes\"\n",
    "git status"
   ]
  },
  {
   "cell_type": "markdown",
   "id": "81f5f2d4-813f-4aad-a39a-7353d677bb27",
   "metadata": {},
   "source": [
    "#### 2.3.8. Deshacer el commit más reciente"
   ]
  },
  {
   "cell_type": "code",
   "execution_count": 19,
   "id": "67a88851-8124-4548-a652-e357dcffdac7",
   "metadata": {},
   "outputs": [
    {
     "name": "stdout",
     "output_type": "stream",
     "text": [
      "On branch master\n",
      "Changes to be committed:\n",
      "  (use \"git reset HEAD <file>...\" to unstage)\n",
      "\n",
      "\t\u001b[32mnew file:   .ipynb_checkpoints/Untitled-checkpoint.ipynb\u001b[m\n",
      "\t\u001b[32mnew file:   Untitled.ipynb\u001b[m\n",
      "\t\u001b[32mnew file:   archivo2.py\u001b[m\n",
      "\t\u001b[32mnew file:   archivo3.R\u001b[m\n",
      "\t\u001b[32mnew file:   readme.txt\u001b[m\n",
      "\n",
      "Changes not staged for commit:\n",
      "  (use \"git add <file>...\" to update what will be committed)\n",
      "  (use \"git checkout -- <file>...\" to discard changes in working directory)\n",
      "\n",
      "\t\u001b[31mmodified:   Untitled.ipynb\u001b[m\n",
      "\n",
      "\u001b[?2004h"
     ]
    },
    {
     "ename": "",
     "evalue": "1",
     "output_type": "error",
     "traceback": []
    }
   ],
   "source": [
    "git reset --soft HEAD~\n",
    "git status"
   ]
  },
  {
   "cell_type": "code",
   "execution_count": 20,
   "id": "ca31e93a-cc03-4a2c-bb42-f71d2b32537a",
   "metadata": {},
   "outputs": [
    {
     "name": "stdout",
     "output_type": "stream",
     "text": [
      "[master e8d0928] Añadimos archivos corregidos\n",
      " 5 files changed, 634 insertions(+)\n",
      " create mode 100644 .ipynb_checkpoints/Untitled-checkpoint.ipynb\n",
      " create mode 100644 Untitled.ipynb\n",
      " create mode 100644 archivo2.py\n",
      " create mode 100644 archivo3.R\n",
      " create mode 100644 readme.txt\n",
      "On branch master\n",
      "nothing to commit, working directory clean\n",
      "\u001b[?2004h"
     ]
    },
    {
     "ename": "",
     "evalue": "1",
     "output_type": "error",
     "traceback": []
    }
   ],
   "source": [
    "git add -A\n",
    "git commit -m \"Añadimos archivos corregidos\"\n",
    "git status "
   ]
  },
  {
   "cell_type": "markdown",
   "id": "eaf55cba-9689-431d-b349-a48b34bbe252",
   "metadata": {},
   "source": [
    "#### 2.3.9. Verificar los commits del repositorio"
   ]
  },
  {
   "cell_type": "code",
   "execution_count": 21,
   "id": "d7de7c21-6650-462e-ae2d-4eb02378808b",
   "metadata": {},
   "outputs": [
    {
     "name": "stdout",
     "output_type": "stream",
     "text": [
      "\u001b[33mcommit e8d0928a61beda4b20bd22463be93a15ee8a1546\u001b[m\n",
      "Author: sahrse <sahrse9497@gmail.com>\n",
      "Date:   Thu May 27 10:40:11 2021 -0500\n",
      "\n",
      "    Añadimos archivos corregidos\n",
      "\n",
      "\u001b[33mcommit db998f348e5a3bd7e51175e143c75b67554820a3\u001b[m\n",
      "Author: sahrse <sahrse9497@gmail.com>\n",
      "Date:   Thu May 27 10:37:35 2021 -0500\n",
      "\n",
      "    Añadimos archivo1.sh al repo de prueba\n",
      "\u001b[?2004h"
     ]
    },
    {
     "ename": "",
     "evalue": "1",
     "output_type": "error",
     "traceback": []
    }
   ],
   "source": [
    "git log"
   ]
  },
  {
   "cell_type": "markdown",
   "id": "1b882b25-0395-43a9-9dcc-1c53e49894eb",
   "metadata": {},
   "source": [
    "#### 2.4. Ignorar archivos o directorios"
   ]
  },
  {
   "cell_type": "code",
   "execution_count": 22,
   "id": "fe62aef3-05c8-4eb3-ae91-cdf98adc8038",
   "metadata": {},
   "outputs": [
    {
     "name": "stdout",
     "output_type": "stream",
     "text": [
      "On branch master\u001b[?2004l\u001b[?2004l\u001b[?2004l\u001b[?2004l\n",
      "Changes not staged for commit:\n",
      "  (use \"git add <file>...\" to update what will be committed)\n",
      "  (use \"git checkout -- <file>...\" to discard changes in working directory)\n",
      "\n",
      "\t\u001b[31mmodified:   Untitled.ipynb\u001b[m\n",
      "\n",
      "Untracked files:\n",
      "  (use \"git add <file>...\" to include in what will be committed)\n",
      "\n",
      "\t\u001b[31mimagen1.png\u001b[m\n",
      "\t\u001b[31mimagen2.jpg\u001b[m\n",
      "\t\u001b[31mimagen3.jpg\u001b[m\n",
      "\t\u001b[31msub_directorio1/\u001b[m\n",
      "\n",
      "no changes added to commit (use \"git add\" and/or \"git commit -a\")\n",
      "\u001b[?2004h"
     ]
    },
    {
     "ename": "",
     "evalue": "1",
     "output_type": "error",
     "traceback": []
    }
   ],
   "source": [
    "touch imagen1.png\n",
    "touch imagen2.jpg\n",
    "touch imagen3.jpg\n",
    "mkdir sub_directorio1\n",
    "touch sub_directorio1/imagen4.png\n",
    "git status"
   ]
  },
  {
   "cell_type": "code",
   "execution_count": 23,
   "id": "b7b9d904-bd26-4e74-a06a-44b7b622bc6d",
   "metadata": {},
   "outputs": [
    {
     "name": "stdout",
     "output_type": "stream",
     "text": [
      "On branch master\n",
      "Changes not staged for commit:\n",
      "  (use \"git add <file>...\" to update what will be committed)\n",
      "  (use \"git checkout -- <file>...\" to discard changes in working directory)\n",
      "\n",
      "\t\u001b[31mmodified:   Untitled.ipynb\u001b[m\n",
      "\n",
      "Untracked files:\n",
      "  (use \"git add <file>...\" to include in what will be committed)\n",
      "\n",
      "\t\u001b[31m.gitignore\u001b[m\n",
      "\t\u001b[31mimagen2.jpg\u001b[m\n",
      "\t\u001b[31mimagen3.jpg\u001b[m\n",
      "\t\u001b[31msub_directorio1/\u001b[m\n",
      "\n",
      "no changes added to commit (use \"git add\" and/or \"git commit -a\")\n",
      "\u001b[?2004h"
     ]
    },
    {
     "ename": "",
     "evalue": "1",
     "output_type": "error",
     "traceback": []
    }
   ],
   "source": [
    "echo \"imagen1.png\" > .gitignore\n",
    "git status"
   ]
  },
  {
   "cell_type": "code",
   "execution_count": 24,
   "id": "873dfd3d-0bff-4c92-9d42-36d6d6ce278b",
   "metadata": {},
   "outputs": [
    {
     "name": "stdout",
     "output_type": "stream",
     "text": [
      "On branch master\n",
      "Changes not staged for commit:\n",
      "  (use \"git add <file>...\" to update what will be committed)\n",
      "  (use \"git checkout -- <file>...\" to discard changes in working directory)\n",
      "\n",
      "\t\u001b[31mmodified:   Untitled.ipynb\u001b[m\n",
      "\n",
      "Untracked files:\n",
      "  (use \"git add <file>...\" to include in what will be committed)\n",
      "\n",
      "\t\u001b[31m.gitignore\u001b[m\n",
      "\t\u001b[31msub_directorio1/\u001b[m\n",
      "\n",
      "no changes added to commit (use \"git add\" and/or \"git commit -a\")\n",
      "\u001b[?2004h"
     ]
    },
    {
     "ename": "",
     "evalue": "1",
     "output_type": "error",
     "traceback": []
    }
   ],
   "source": [
    "echo \"*.jpg\" >> .gitignore\n",
    "git status"
   ]
  },
  {
   "cell_type": "code",
   "execution_count": 25,
   "id": "a26dcfad-ffee-43f3-8f74-677e12ab5470",
   "metadata": {},
   "outputs": [
    {
     "name": "stdout",
     "output_type": "stream",
     "text": [
      "On branch master\n",
      "Changes not staged for commit:\n",
      "  (use \"git add <file>...\" to update what will be committed)\n",
      "  (use \"git checkout -- <file>...\" to discard changes in working directory)\n",
      "\n",
      "\t\u001b[31mmodified:   Untitled.ipynb\u001b[m\n",
      "\n",
      "Untracked files:\n",
      "  (use \"git add <file>...\" to include in what will be committed)\n",
      "\n",
      "\t\u001b[31m.gitignore\u001b[m\n",
      "\n",
      "no changes added to commit (use \"git add\" and/or \"git commit -a\")\n",
      "\u001b[?2004h"
     ]
    },
    {
     "ename": "",
     "evalue": "1",
     "output_type": "error",
     "traceback": []
    }
   ],
   "source": [
    "echo \"sub_directorio1/\" >> .gitignore\n",
    "git status"
   ]
  },
  {
   "cell_type": "code",
   "execution_count": 26,
   "id": "a651d541-b1ab-48ae-8626-76b5413a9435",
   "metadata": {},
   "outputs": [
    {
     "name": "stdout",
     "output_type": "stream",
     "text": [
      "[master a4ee43d] Añadimos .gitignore\n",
      " 2 files changed, 288 insertions(+), 2 deletions(-)\n",
      " create mode 100644 .gitignore\n",
      "On branch master\n",
      "nothing to commit, working directory clean\n",
      "\u001b[?2004h"
     ]
    },
    {
     "ename": "",
     "evalue": "1",
     "output_type": "error",
     "traceback": []
    }
   ],
   "source": [
    "git add -A\n",
    "git commit -m \"Añadimos .gitignore\"\n",
    "git status"
   ]
  },
  {
   "cell_type": "markdown",
   "id": "913422c4-3061-43b3-85d1-feb1582b8417",
   "metadata": {},
   "source": [
    "#### 2.5. Ramas 2.5.1. Verificar las ramas del repo"
   ]
  },
  {
   "cell_type": "code",
   "execution_count": 27,
   "id": "51bcac6c-7499-4159-9b71-063f16ae7d7b",
   "metadata": {},
   "outputs": [
    {
     "name": "stdout",
     "output_type": "stream",
     "text": [
      "* \u001b[32mmaster\u001b[m\n",
      "\u001b[?2004h"
     ]
    },
    {
     "ename": "",
     "evalue": "1",
     "output_type": "error",
     "traceback": []
    }
   ],
   "source": [
    "git branch"
   ]
  },
  {
   "cell_type": "markdown",
   "id": "9eb81064-d12f-41b2-998e-1e9b20425536",
   "metadata": {},
   "source": [
    "#### 2.5.2. Crear una nueva rama"
   ]
  },
  {
   "cell_type": "code",
   "execution_count": 28,
   "id": "5585bada-312d-4f81-afc0-c1c5e4c01550",
   "metadata": {},
   "outputs": [
    {
     "name": "stdout",
     "output_type": "stream",
     "text": [
      "* \u001b[32mmaster\u001b[m\n",
      "  test_branch\u001b[m\n",
      "\u001b[?2004h"
     ]
    },
    {
     "ename": "",
     "evalue": "1",
     "output_type": "error",
     "traceback": []
    }
   ],
   "source": [
    "git branch test_branch\n",
    "git branch"
   ]
  },
  {
   "cell_type": "markdown",
   "id": "6818a204-fce9-41ab-ade1-d071a3c8512e",
   "metadata": {},
   "source": [
    "#### 2.5.3. Cambiarse de una rama a otra"
   ]
  },
  {
   "cell_type": "code",
   "execution_count": 29,
   "id": "0894a859-abcf-4535-84ff-74797dfd4af7",
   "metadata": {},
   "outputs": [
    {
     "name": "stdout",
     "output_type": "stream",
     "text": [
      "M\tUntitled.ipynb\n",
      "Switched to branch 'test_branch'\n",
      "  master\u001b[m2004l\n",
      "* \u001b[32mtest_branch\u001b[m\n",
      "\u001b[?2004h"
     ]
    },
    {
     "ename": "",
     "evalue": "1",
     "output_type": "error",
     "traceback": []
    }
   ],
   "source": [
    "git checkout test_branch\n",
    "git branch"
   ]
  },
  {
   "cell_type": "markdown",
   "id": "95cceb64-ac2c-4262-88fb-51f9c746f443",
   "metadata": {},
   "source": [
    "#### 2.5.4. Elimnar una rama"
   ]
  },
  {
   "cell_type": "code",
   "execution_count": 30,
   "id": "ec76105c-8ba1-4458-a15a-0a1316610221",
   "metadata": {},
   "outputs": [
    {
     "name": "stdout",
     "output_type": "stream",
     "text": [
      "M\tUntitled.ipynb\n",
      "Switched to branch 'master'\n",
      "Deleted branch test_branch (was a4ee43d).\n",
      "* \u001b[32mmaster\u001b[m\n",
      "\u001b[?2004h"
     ]
    },
    {
     "ename": "",
     "evalue": "1",
     "output_type": "error",
     "traceback": []
    }
   ],
   "source": [
    "git checkout master\n",
    "git branch -d test_branch\n",
    "git branch"
   ]
  },
  {
   "cell_type": "markdown",
   "id": "d44f203c-5e7c-4a2c-8d7f-84ea93800912",
   "metadata": {},
   "source": [
    "#### 2.5.5. Crear una rama y convertirla en la rama de trabajo"
   ]
  },
  {
   "cell_type": "code",
   "execution_count": 31,
   "id": "fdc12f96-0073-46ba-b044-1fc00a89ee02",
   "metadata": {},
   "outputs": [
    {
     "name": "stdout",
     "output_type": "stream",
     "text": [
      "M\tUntitled.ipynb\n",
      "Switched to a new branch 'nueva_rama'\n",
      "  master\u001b[m2004l\n",
      "* \u001b[32mnueva_rama\u001b[m\n",
      "\u001b[?2004h"
     ]
    },
    {
     "ename": "",
     "evalue": "1",
     "output_type": "error",
     "traceback": []
    }
   ],
   "source": [
    "git checkout -b nueva_rama\n",
    "git branch"
   ]
  },
  {
   "cell_type": "code",
   "execution_count": 32,
   "id": "3be16fb3-166d-4540-ae44-30694846e31e",
   "metadata": {},
   "outputs": [
    {
     "name": "stdout",
     "output_type": "stream",
     "text": [
      "[nueva_rama fc12d82] Modificación readme.txt en nueva rama\n",
      " 2 files changed, 254 insertions(+), 10 deletions(-)\n",
      "Este es mi repositorio de prueba\n",
      "Esta línea se añadió en el archivo de la nueva rama\n",
      "\u001b[?2004h"
     ]
    },
    {
     "ename": "",
     "evalue": "1",
     "output_type": "error",
     "traceback": []
    }
   ],
   "source": [
    "echo \"Esta línea se añadió en el archivo de la nueva rama\" >> readme.txt\n",
    "git add -A\n",
    "git commit -m \"Modificación readme.txt en nueva rama\"\n",
    "cat readme.txt"
   ]
  },
  {
   "cell_type": "code",
   "execution_count": 33,
   "id": "1b675f3b-90e3-42ef-ace4-a18b8a7cb75f",
   "metadata": {},
   "outputs": [
    {
     "name": "stdout",
     "output_type": "stream",
     "text": [
      "Switched to branch 'master'\n",
      "Este es mi repositorio de prueba\n",
      "\u001b[?2004h"
     ]
    },
    {
     "ename": "",
     "evalue": "1",
     "output_type": "error",
     "traceback": []
    }
   ],
   "source": [
    "git checkout master\n",
    "cat readme.txt"
   ]
  },
  {
   "cell_type": "markdown",
   "id": "57c9f641-ec1a-4c34-a70f-ec272519dde2",
   "metadata": {},
   "source": [
    "#### 2.5.6. Unir los contenidos de diferentes ramas"
   ]
  },
  {
   "cell_type": "code",
   "execution_count": 34,
   "id": "9d31c632-80b8-45c3-83c0-ca5c5ca32d62",
   "metadata": {},
   "outputs": [
    {
     "name": "stdout",
     "output_type": "stream",
     "text": [
      "Updating a4ee43d..fc12d82\n",
      "Fast-forward\n",
      " Untitled.ipynb | 263 \u001b[32m++++++++++++++++++++++++++++++++++++++++++++++++++++++\u001b[m\u001b[31m---\u001b[m\n",
      " readme.txt     |   1 \u001b[32m+\u001b[m\n",
      " 2 files changed, 254 insertions(+), 10 deletions(-)\n",
      "Este es mi repositorio de prueba\n",
      "Esta línea se añadió en el archivo de la nueva rama\n",
      "\u001b[?2004h"
     ]
    },
    {
     "ename": "",
     "evalue": "1",
     "output_type": "error",
     "traceback": []
    }
   ],
   "source": [
    "git merge nueva_rama\n",
    "cat readme.txt"
   ]
  },
  {
   "cell_type": "markdown",
   "id": "21e7df02-b18c-4ea5-b5c8-e170c9def542",
   "metadata": {},
   "source": [
    "#### 2.5.7. Resolución de conflictos de merge"
   ]
  },
  {
   "cell_type": "code",
   "execution_count": 35,
   "id": "b0a9fb23-1d69-4e73-b2d7-d016c810d102",
   "metadata": {},
   "outputs": [
    {
     "name": "stdout",
     "output_type": "stream",
     "text": [
      "D\t.ipynb_checkpoints/Untitled-checkpoint.ipynb\n",
      "D\tUntitled.ipynb\n",
      "Switched to branch 'nueva_rama'\n",
      "sed: -i may not be used with stdin\n",
      "Este es mi repositorio de prueba\n",
      "Esta línea se añadió en el archivo de la nueva rama\n",
      "\u001b[?2004h"
     ]
    },
    {
     "ename": "",
     "evalue": "1",
     "output_type": "error",
     "traceback": []
    }
   ],
   "source": [
    "git checkout nueva_rama\n",
    "sed -i 's/archivo/documento/g' readme.txt\n",
    "cat readme.txt"
   ]
  },
  {
   "cell_type": "code",
   "execution_count": 36,
   "id": "bbe61ace-4cca-4778-8568-40169a348804",
   "metadata": {},
   "outputs": [
    {
     "name": "stdout",
     "output_type": "stream",
     "text": [
      "[nueva_rama 75643ce] Cambio de archivo por documento\n",
      " 2 files changed, 132 insertions(+), 5 deletions(-)\n",
      " rename .ipynb_checkpoints/{Untitled-checkpoint.ipynb => Deber_9-checkpoint.ipynb} (100%)\n",
      " rename Untitled.ipynb => Deber_9.ipynb (90%)\n",
      "\u001b[?2004h"
     ]
    },
    {
     "ename": "",
     "evalue": "1",
     "output_type": "error",
     "traceback": []
    }
   ],
   "source": [
    "git add -A\n",
    "git commit -m \"Cambio de archivo por documento\""
   ]
  },
  {
   "cell_type": "code",
   "execution_count": 37,
   "id": "ae91af34-d68f-4c30-be60-2813aa5cf9de",
   "metadata": {},
   "outputs": [
    {
     "name": "stdout",
     "output_type": "stream",
     "text": [
      "error: Your local changes to the following files would be overwritten by checkout:\n",
      "\tDeber_9.ipynb\n",
      "Please, commit your changes or stash them before you can switch branches.\n",
      "Aborting\n",
      "sed: -i may not be used with stdin\n",
      "Este es mi repositorio de prueba\n",
      "Esta línea se añadió en el archivo de la nueva rama\n",
      "\u001b[?2004h"
     ]
    },
    {
     "ename": "",
     "evalue": "1",
     "output_type": "error",
     "traceback": []
    }
   ],
   "source": [
    "git checkout master\n",
    "sed -i 's/archivo/file/g' readme.txt\n",
    "cat readme.txt"
   ]
  },
  {
   "cell_type": "code",
   "execution_count": 38,
   "id": "762ada67-b240-48b4-82f5-98488eff7f8a",
   "metadata": {},
   "outputs": [
    {
     "name": "stdout",
     "output_type": "stream",
     "text": [
      "[nueva_rama 5a1e578] Cambio de archivo por file\n",
      " 1 file changed, 75 insertions(+), 2 deletions(-)\n",
      "Already up-to-date.\n",
      "\u001b[?2004h"
     ]
    },
    {
     "ename": "",
     "evalue": "1",
     "output_type": "error",
     "traceback": []
    }
   ],
   "source": [
    "git add -A\n",
    "git commit -m \"Cambio de archivo por file\"\n",
    "git merge nueva_rama"
   ]
  },
  {
   "cell_type": "code",
   "execution_count": 39,
   "id": "46e68351-f380-4a29-90d9-bf4b300d3464",
   "metadata": {},
   "outputs": [
    {
     "name": "stdout",
     "output_type": "stream",
     "text": [
      "On branch nueva_rama\n",
      "nothing to commit, working directory clean\n",
      "\u001b[?2004h"
     ]
    },
    {
     "ename": "",
     "evalue": "1",
     "output_type": "error",
     "traceback": []
    }
   ],
   "source": [
    "git status"
   ]
  },
  {
   "cell_type": "code",
   "execution_count": 40,
   "id": "0073e32e-8921-444c-97b0-eec50a0f9271",
   "metadata": {},
   "outputs": [
    {
     "name": "stdout",
     "output_type": "stream",
     "text": [
      "Este es mi repositorio de prueba\n",
      "Esta línea se añadió en el archivo de la nueva rama\n",
      "\u001b[?2004h"
     ]
    },
    {
     "ename": "",
     "evalue": "1",
     "output_type": "error",
     "traceback": []
    }
   ],
   "source": [
    "cat readme.txt"
   ]
  },
  {
   "cell_type": "code",
   "execution_count": 41,
   "id": "8d702490-3268-4084-8ac3-46f41cb55b87",
   "metadata": {},
   "outputs": [
    {
     "name": "stdout",
     "output_type": "stream",
     "text": [
      "fatal: There is no merge to abort (MERGE_HEAD missing).\n",
      "sed: -i may not be used with stdin\n",
      "On branch nueva_rama004l\n",
      "nothing to commit, working directory clean\n",
      "On branch nueva_rama\n",
      "nothing to commit, working directory clean\n",
      "\u001b[?2004h"
     ]
    },
    {
     "ename": "",
     "evalue": "1",
     "output_type": "error",
     "traceback": []
    }
   ],
   "source": [
    "git merge --abort\n",
    "sed -i '2,6d' readme.txt\n",
    "git add -A\n",
    "git commit -m \"Conflicto resuelto\"\n",
    "git status"
   ]
  },
  {
   "cell_type": "markdown",
   "id": "4de660b5-d998-4194-899a-70f1455c10ab",
   "metadata": {},
   "source": [
    "#### 2.6. Ayuda sobre comandos de git"
   ]
  },
  {
   "cell_type": "code",
   "execution_count": 42,
   "id": "743ea2c1-d579-42b3-af62-ab738ddf5c09",
   "metadata": {},
   "outputs": [
    {
     "name": "stdout",
     "output_type": "stream",
     "text": [
      "GIT-STATUS(1)                     Git Manual                     GIT-STATUS(1)\n",
      "\n",
      "\n",
      "\n",
      "NAME\n",
      "       git-status - Show the working tree status\n",
      "\n",
      "SYNOPSIS\n",
      "       git status [<options>...] [--] [<pathspec>...]\n",
      "\n",
      "\n",
      "DESCRIPTION\n",
      "       Displays paths that have differences between the index file and the\n",
      "       current HEAD commit, paths that have differences between the working\n",
      "       tree and the index file, and paths in the working tree that are not\n",
      "       tracked by Git (and are not ignored by gitignore(5)). The first are\n",
      "       what you would commit by running git commit; the second and third are\n",
      "       what you could commit by running git add before running git commit.\n",
      "\n",
      "OPTIONS\n",
      "       -s, --short\n",
      "           Give the output in the short-format.\n",
      "\n",
      "       -b, --branch\n",
      "           Show the branch and tracking info even in short-format.\n",
      "\n",
      "       --porcelain\n",
      "           Give the output in an easy-to-parse format for scripts. This is\n",
      "           similar to the short output, but will remain stable across Git\n",
      "           versions and regardless of user configuration. See below for\n",
      "           details.\n",
      "\n",
      "       --long\n",
      "           Give the output in the long-format. This is the default.\n",
      "\n",
      "       -v, --verbose\n",
      "           In addition to the names of files that have been changed, also show\n",
      "           the textual changes that are staged to be committed (i.e., like the\n",
      "           output of git diff --cached). If -v is specified twice, then also\n",
      "           show the changes in the working tree that have not yet been staged\n",
      "           (i.e., like the output of git diff).\n",
      "\n",
      "       -u[<mode>], --untracked-files[=<mode>]\n",
      "           Show untracked files.\n",
      "\n",
      "           The mode parameter is optional (defaults to all), and is used to\n",
      "           specify the handling of untracked files.\n",
      "\n",
      "           The possible options are:\n",
      "\n",
      "           o   no - Show no untracked files.\n",
      "\n",
      "           o   normal - Shows untracked files and directories.\n",
      "\n",
      "           o   all - Also shows individual files in untracked directories.\n",
      "\n",
      "               When -u option is not used, untracked files and directories are\n",
      "               shown (i.e. the same as specifying normal), to help you avoid\n",
      "               forgetting to add newly created files. Because it takes extra\n",
      "               work to find untracked files in the filesystem, this mode may\n",
      "               take some time in a large working tree. Consider enabling\n",
      "               untracked cache and split index if supported (see git\n",
      "               update-index --untracked-cache and git update-index\n",
      "               --split-index), Otherwise you can use no to have git status\n",
      "               return more quickly without showing untracked files.\n",
      "\n",
      "               The default can be changed using the status.showUntrackedFiles\n",
      "               configuration variable documented in git-config(1).\n",
      "\n",
      "       --ignore-submodules[=<when>]\n",
      "           Ignore changes to submodules when looking for changes. <when> can\n",
      "           be either \"none\", \"untracked\", \"dirty\" or \"all\", which is the\n",
      "           default. Using \"none\" will consider the submodule modified when it\n",
      "           either contains untracked or modified files or its HEAD differs\n",
      "           from the commit recorded in the superproject and can be used to\n",
      "           override any settings of the ignore option in git-config(1) or\n",
      "           gitmodules(5). When \"untracked\" is used submodules are not\n",
      "           considered dirty when they only contain untracked content (but they\n",
      "           are still scanned for modified content). Using \"dirty\" ignores all\n",
      "           changes to the work tree of submodules, only changes to the commits\n",
      "           stored in the superproject are shown (this was the behavior before\n",
      "           1.7.0). Using \"all\" hides all changes to submodules (and suppresses\n",
      "           the output of submodule summaries when the config option\n",
      "           status.submoduleSummary is set).\n",
      "\n",
      "       --ignored\n",
      "           Show ignored files as well.\n",
      "\n",
      "       -z\n",
      "           Terminate entries with NUL, instead of LF. This implies the\n",
      "           --porcelain output format if no other format is given.\n",
      "\n",
      "       --column[=<options>], --no-column\n",
      "           Display untracked files in columns. See configuration variable\n",
      "           column.status for option syntax.--column and --no-column without\n",
      "           options are equivalent to always and never respectively.\n",
      "\n",
      "OUTPUT\n",
      "       The output from this command is designed to be used as a commit\n",
      "       template comment. The default, long format, is designed to be human\n",
      "       readable, verbose and descriptive. Its contents and format are subject\n",
      "       to change at any time.\n",
      "\n",
      "       The paths mentioned in the output, unlike many other Git commands, are\n",
      "       made relative to the current directory if you are working in a\n",
      "       subdirectory (this is on purpose, to help cutting and pasting). See the\n",
      "       status.relativePaths config option below.\n",
      "\n",
      "   Short Format\n",
      "       In the short-format, the status of each path is shown as\n",
      "\n",
      "           XY PATH1 -> PATH2\n",
      "\n",
      "       where PATH1 is the path in the HEAD, and the \" -> PATH2\" part is shown\n",
      "       only when PATH1 corresponds to a different path in the index/worktree\n",
      "       (i.e. the file is renamed). The XY is a two-letter status code.\n",
      "\n",
      "       The fields (including the ->) are separated from each other by a single\n",
      "       space. If a filename contains whitespace or other nonprintable\n",
      "       characters, that field will be quoted in the manner of a C string\n",
      "       literal: surrounded by ASCII double quote (34) characters, and with\n",
      "       interior special characters backslash-escaped.\n",
      "\n",
      "       For paths with merge conflicts, X and Y show the modification states of\n",
      "       each side of the merge. For paths that do not have merge conflicts, X\n",
      "       shows the status of the index, and Y shows the status of the work tree.\n",
      "       For untracked paths, XY are ??. Other status codes can be interpreted\n",
      "       as follows:\n",
      "\n",
      "       o   ' ' = unmodified\n",
      "\n",
      "       o   M = modified\n",
      "\n",
      "       o   A = added\n",
      "\n",
      "       o   D = deleted\n",
      "\n",
      "       o   R = renamed\n",
      "\n",
      "       o   C = copied\n",
      "\n",
      "       o   U = updated but unmerged\n",
      "\n",
      "       Ignored files are not listed, unless --ignored option is in effect, in\n",
      "       which case XY are !!.\n",
      "\n",
      "           X          Y     Meaning\n",
      "           -------------------------------------------------\n",
      "                     [MD]   not updated\n",
      "           M        [ MD]   updated in index\n",
      "           A        [ MD]   added to index\n",
      "           D         [ M]   deleted from index\n",
      "           R        [ MD]   renamed in index\n",
      "           C        [ MD]   copied in index\n",
      "           [MARC]           index and work tree matches\n",
      "           [ MARC]     M    work tree changed since index\n",
      "           [ MARC]     D    deleted in work tree\n",
      "           -------------------------------------------------\n",
      "           D           D    unmerged, both deleted\n",
      "           A           U    unmerged, added by us\n",
      "           U           D    unmerged, deleted by them\n",
      "           U           A    unmerged, added by them\n",
      "           D           U    unmerged, deleted by us\n",
      "           A           A    unmerged, both added\n",
      "           U           U    unmerged, both modified\n",
      "           -------------------------------------------------\n",
      "           ?           ?    untracked\n",
      "           !           !    ignored\n",
      "           -------------------------------------------------\n",
      "\n",
      "       If -b is used the short-format status is preceded by a line\n",
      "\n",
      "       ## branchname tracking info\n",
      "\n",
      "   Porcelain Format\n",
      "       The porcelain format is similar to the short format, but is guaranteed\n",
      "       not to change in a backwards-incompatible way between Git versions or\n",
      "       based on user configuration. This makes it ideal for parsing by\n",
      "       scripts. The description of the short format above also describes the\n",
      "       porcelain format, with a few exceptions:\n",
      "\n",
      "        1. The user's color.status configuration is not respected; color will\n",
      "           always be off.\n",
      "\n",
      "        2. The user's status.relativePaths configuration is not respected;\n",
      "           paths shown will always be relative to the repository root.\n",
      "\n",
      "       There is also an alternate -z format recommended for machine parsing.\n",
      "       In that format, the status field is the same, but some other things\n",
      "       change. First, the -> is omitted from rename entries and the field\n",
      "       order is reversed (e.g from -> to becomes to from). Second, a NUL\n",
      "       (ASCII 0) follows each filename, replacing space as a field separator\n",
      "       and the terminating newline (but a space still separates the status\n",
      "       field from the first filename). Third, filenames containing special\n",
      "       characters are not specially formatted; no quoting or\n",
      "       backslash-escaping is performed.\n",
      "\n",
      "CONFIGURATION\n",
      "       The command honors color.status (or status.color -- they mean the same\n",
      "       thing and the latter is kept for backward compatibility) and\n",
      "       color.status.<slot> configuration variables to colorize its output.\n",
      "\n",
      "       If the config variable status.relativePaths is set to false, then all\n",
      "       paths shown are relative to the repository root, not to the current\n",
      "       directory.\n",
      "\n",
      "       If status.submoduleSummary is set to a non zero number or true\n",
      "       (identical to -1 or an unlimited number), the submodule summary will be\n",
      "       enabled for the long format and a summary of commits for modified\n",
      "       submodules will be shown (see --summary-limit option of git-\n",
      "       submodule(1)). Please note that the summary output from the status\n",
      "       command will be suppressed for all submodules when\n",
      "       diff.ignoreSubmodules is set to all or only for those submodules where\n",
      "       submodule.<name>.ignore=all. To also view the summary for ignored\n",
      "       submodules you can either use the --ignore-submodules=dirty command\n",
      "       line option or the git submodule summary command, which shows a similar\n",
      "       output but does not honor these settings.\n",
      "\n",
      "SEE ALSO\n",
      "       gitignore(5)\n",
      "\n",
      "GIT\n",
      "       Part of the git(1) suite\n",
      "\n",
      "\n",
      "\n",
      "Git 2.5.0                         07/27/2015                     GIT-STATUS(1)\n",
      "\u001b[?2004h"
     ]
    },
    {
     "ename": "",
     "evalue": "1",
     "output_type": "error",
     "traceback": []
    }
   ],
   "source": [
    "git help status"
   ]
  },
  {
   "cell_type": "markdown",
   "id": "0e3889d7-695c-480d-9cfa-2d69b4ce38ec",
   "metadata": {},
   "source": [
    "#### 3.3. Definir las variables de ambiente de usuario e email"
   ]
  },
  {
   "cell_type": "code",
   "execution_count": 43,
   "id": "26404b20-7e57-49d5-9ba7-5ca224560284",
   "metadata": {},
   "outputs": [
    {
     "name": "stdout",
     "output_type": "stream",
     "text": [
      "\u001b[?2004h\u001b[?2004l"
     ]
    },
    {
     "ename": "",
     "evalue": "1",
     "output_type": "error",
     "traceback": []
    }
   ],
   "source": [
    "git config --global user.name \"sahrse9497\"\n",
    "git config --global user.email \"sahrse9497@gmail.com\""
   ]
  },
  {
   "cell_type": "code",
   "execution_count": 2,
   "id": "2c3b9368-e510-4c0d-a383-c7ed4ceabd69",
   "metadata": {},
   "outputs": [
    {
     "name": "stdout",
     "output_type": "stream",
     "text": [
      "filter.lfs.clean=git-lfs clean -- %f\n",
      "filter.lfs.smudge=git-lfs smudge -- %f\n",
      "filter.lfs.process=git-lfs filter-process\n",
      "filter.lfs.required=true\n",
      "user.name=sahrse9497\n",
      "user.email=sahrse9497@gmail.com\n",
      "core.repositoryformatversion=0\n",
      "core.filemode=true\n",
      "core.bare=false\n",
      "core.logallrefupdates=true\n",
      "core.ignorecase=true\n",
      "core.precomposeunicode=true\n",
      "\u001b[?2004h"
     ]
    },
    {
     "ename": "",
     "evalue": "1",
     "output_type": "error",
     "traceback": []
    }
   ],
   "source": [
    "git config --list"
   ]
  },
  {
   "cell_type": "code",
   "execution_count": 3,
   "id": "91da06d1-9003-454e-ab20-564395917ba6",
   "metadata": {},
   "outputs": [
    {
     "name": "stdout",
     "output_type": "stream",
     "text": [
      "\u001b[?2004h"
     ]
    },
    {
     "ename": "",
     "evalue": "1",
     "output_type": "error",
     "traceback": []
    }
   ],
   "source": [
    "git remote -v"
   ]
  },
  {
   "cell_type": "markdown",
   "id": "fe18fcf3-06fd-4e31-85a4-bba05decc5d6",
   "metadata": {},
   "source": [
    "#### 3.5. Actualizar contenidos del repo remoto con los cambios del repo local"
   ]
  },
  {
   "cell_type": "code",
   "execution_count": 4,
   "id": "81a021cf-8461-43bb-8ad1-ed4ea768c08b",
   "metadata": {},
   "outputs": [
    {
     "name": "stdout",
     "output_type": "stream",
     "text": [
      "fatal: 'origin' does not appear to be a git repository\n",
      "fatal: Could not read from remote repository.\n",
      "\n",
      "Please make sure you have the correct access rights\n",
      "and the repository exists.\n",
      "\u001b[?2004h"
     ]
    },
    {
     "ename": "",
     "evalue": "1",
     "output_type": "error",
     "traceback": []
    }
   ],
   "source": [
    "git push -u origin master"
   ]
  },
  {
   "cell_type": "markdown",
   "id": "22395cbf-211b-464a-afd1-5b638418bb76",
   "metadata": {},
   "source": [
    "#### 2.3.9. Verificar los commits del repositorio"
   ]
  },
  {
   "cell_type": "code",
   "execution_count": null,
   "id": "92bedc26-71ae-4a6f-aa0b-09d1448deeba",
   "metadata": {},
   "outputs": [],
   "source": []
  },
  {
   "cell_type": "code",
   "execution_count": null,
   "id": "4b227ee6-da57-486c-b12e-d4672839b0da",
   "metadata": {},
   "outputs": [],
   "source": []
  },
  {
   "cell_type": "code",
   "execution_count": null,
   "id": "faa1b910-80b0-4fa7-bfb9-f2efdfac2d15",
   "metadata": {},
   "outputs": [],
   "source": []
  },
  {
   "cell_type": "markdown",
   "id": "fe0e638e-250c-4967-9ebe-c9eb060c73bf",
   "metadata": {},
   "source": [
    "#### "
   ]
  }
 ],
 "metadata": {
  "kernelspec": {
   "display_name": "Bash",
   "language": "bash",
   "name": "bash"
  },
  "language_info": {
   "codemirror_mode": "shell",
   "file_extension": ".sh",
   "mimetype": "text/x-sh",
   "name": "bash"
  }
 },
 "nbformat": 4,
 "nbformat_minor": 5
}
